{
 "metadata": {
  "language_info": {
   "codemirror_mode": {
    "name": "ipython",
    "version": 3
   },
   "file_extension": ".py",
   "mimetype": "text/x-python",
   "name": "python",
   "nbconvert_exporter": "python",
   "pygments_lexer": "ipython3",
   "version": "3.8.5-final"
  },
  "orig_nbformat": 2,
  "kernelspec": {
   "name": "python_defaultSpec_1598923771370",
   "display_name": "Python 3.8.5 64-bit ('.venv': venv)"
  }
 },
 "nbformat": 4,
 "nbformat_minor": 2,
 "cells": [
  {
   "cell_type": "code",
   "execution_count": 1,
   "metadata": {},
   "outputs": [],
   "source": [
    "import numpy as np\n",
    "import pandas as pd\n",
    "from datetime import datetime as dt"
   ]
  },
  {
   "cell_type": "code",
   "execution_count": 5,
   "metadata": {
    "tags": []
   },
   "outputs": [
    {
     "output_type": "stream",
     "name": "stderr",
     "text": "b'Skipping line 50794: expected 12 fields, saw 20\\n'\n"
    },
    {
     "output_type": "execute_result",
     "data": {
      "text/plain": "   trip_id         starttime          stoptime    bikeid  tripduration  \\\n0      431  10/13/2014 10:31  10/13/2014 10:48  SEA00298       985.935   \n\n     from_station_name                                    to_station_name  \\\n0  2nd Ave & Spring St  Occidental Park / Occidental Ave S & S Washing...   \n\n  from_station_id to_station_id usertype gender  birthyear  \n0          CBD-06         PS-04   Member   Male     1960.0  ",
      "text/html": "<div>\n<style scoped>\n    .dataframe tbody tr th:only-of-type {\n        vertical-align: middle;\n    }\n\n    .dataframe tbody tr th {\n        vertical-align: top;\n    }\n\n    .dataframe thead th {\n        text-align: right;\n    }\n</style>\n<table border=\"1\" class=\"dataframe\">\n  <thead>\n    <tr style=\"text-align: right;\">\n      <th></th>\n      <th>trip_id</th>\n      <th>starttime</th>\n      <th>stoptime</th>\n      <th>bikeid</th>\n      <th>tripduration</th>\n      <th>from_station_name</th>\n      <th>to_station_name</th>\n      <th>from_station_id</th>\n      <th>to_station_id</th>\n      <th>usertype</th>\n      <th>gender</th>\n      <th>birthyear</th>\n    </tr>\n  </thead>\n  <tbody>\n    <tr>\n      <th>0</th>\n      <td>431</td>\n      <td>10/13/2014 10:31</td>\n      <td>10/13/2014 10:48</td>\n      <td>SEA00298</td>\n      <td>985.935</td>\n      <td>2nd Ave &amp; Spring St</td>\n      <td>Occidental Park / Occidental Ave S &amp; S Washing...</td>\n      <td>CBD-06</td>\n      <td>PS-04</td>\n      <td>Member</td>\n      <td>Male</td>\n      <td>1960.0</td>\n    </tr>\n  </tbody>\n</table>\n</div>"
     },
     "metadata": {},
     "execution_count": 5
    }
   ],
   "source": [
    "trip_df = pd.read_csv('./trip.csv', error_bad_lines=False)\n",
    "trip_df.head(1)"
   ]
  },
  {
   "cell_type": "code",
   "execution_count": 8,
   "metadata": {},
   "outputs": [
    {
     "output_type": "execute_result",
     "data": {
      "text/plain": "         Date  Max_Temperature_F  Mean_Temperature_F  Min_TemperatureF  \\\n0  10/13/2014                 71                62.0                54   \n\n   Max_Dew_Point_F  MeanDew_Point_F  Min_Dewpoint_F  Max_Humidity  \\\n0               55               51              46            87   \n\n   Mean_Humidity  Min_Humidity  ...  Mean_Sea_Level_Pressure_In  \\\n0             68            46  ...                       29.79   \n\n   Min_Sea_Level_Pressure_In  Max_Visibility_Miles  Mean_Visibility_Miles  \\\n0                      29.65                    10                     10   \n\n   Min_Visibility_Miles  Max_Wind_Speed_MPH  Mean_Wind_Speed_MPH  \\\n0                     4                  13                    4   \n\n   Max_Gust_Speed_MPH Precipitation_In  Events  \n0                  21              0.0    Rain  \n\n[1 rows x 21 columns]",
      "text/html": "<div>\n<style scoped>\n    .dataframe tbody tr th:only-of-type {\n        vertical-align: middle;\n    }\n\n    .dataframe tbody tr th {\n        vertical-align: top;\n    }\n\n    .dataframe thead th {\n        text-align: right;\n    }\n</style>\n<table border=\"1\" class=\"dataframe\">\n  <thead>\n    <tr style=\"text-align: right;\">\n      <th></th>\n      <th>Date</th>\n      <th>Max_Temperature_F</th>\n      <th>Mean_Temperature_F</th>\n      <th>Min_TemperatureF</th>\n      <th>Max_Dew_Point_F</th>\n      <th>MeanDew_Point_F</th>\n      <th>Min_Dewpoint_F</th>\n      <th>Max_Humidity</th>\n      <th>Mean_Humidity</th>\n      <th>Min_Humidity</th>\n      <th>...</th>\n      <th>Mean_Sea_Level_Pressure_In</th>\n      <th>Min_Sea_Level_Pressure_In</th>\n      <th>Max_Visibility_Miles</th>\n      <th>Mean_Visibility_Miles</th>\n      <th>Min_Visibility_Miles</th>\n      <th>Max_Wind_Speed_MPH</th>\n      <th>Mean_Wind_Speed_MPH</th>\n      <th>Max_Gust_Speed_MPH</th>\n      <th>Precipitation_In</th>\n      <th>Events</th>\n    </tr>\n  </thead>\n  <tbody>\n    <tr>\n      <th>0</th>\n      <td>10/13/2014</td>\n      <td>71</td>\n      <td>62.0</td>\n      <td>54</td>\n      <td>55</td>\n      <td>51</td>\n      <td>46</td>\n      <td>87</td>\n      <td>68</td>\n      <td>46</td>\n      <td>...</td>\n      <td>29.79</td>\n      <td>29.65</td>\n      <td>10</td>\n      <td>10</td>\n      <td>4</td>\n      <td>13</td>\n      <td>4</td>\n      <td>21</td>\n      <td>0.0</td>\n      <td>Rain</td>\n    </tr>\n  </tbody>\n</table>\n<p>1 rows × 21 columns</p>\n</div>"
     },
     "metadata": {},
     "execution_count": 8
    }
   ],
   "source": [
    "weather_df = pd.read_csv('./datasets_336_799969_weather.csv')\n",
    "weather_df.head(1)"
   ]
  },
  {
   "cell_type": "code",
   "execution_count": 10,
   "metadata": {},
   "outputs": [
    {
     "output_type": "execute_result",
     "data": {
      "text/plain": "  station_id                name        lat        long install_date  \\\n0      BT-01  3rd Ave & Broad St  47.618418 -122.350964   10/13/2014   \n\n   install_dockcount modification_date  current_dockcount decommission_date  \n0                 18               NaN                 18               NaN  ",
      "text/html": "<div>\n<style scoped>\n    .dataframe tbody tr th:only-of-type {\n        vertical-align: middle;\n    }\n\n    .dataframe tbody tr th {\n        vertical-align: top;\n    }\n\n    .dataframe thead th {\n        text-align: right;\n    }\n</style>\n<table border=\"1\" class=\"dataframe\">\n  <thead>\n    <tr style=\"text-align: right;\">\n      <th></th>\n      <th>station_id</th>\n      <th>name</th>\n      <th>lat</th>\n      <th>long</th>\n      <th>install_date</th>\n      <th>install_dockcount</th>\n      <th>modification_date</th>\n      <th>current_dockcount</th>\n      <th>decommission_date</th>\n    </tr>\n  </thead>\n  <tbody>\n    <tr>\n      <th>0</th>\n      <td>BT-01</td>\n      <td>3rd Ave &amp; Broad St</td>\n      <td>47.618418</td>\n      <td>-122.350964</td>\n      <td>10/13/2014</td>\n      <td>18</td>\n      <td>NaN</td>\n      <td>18</td>\n      <td>NaN</td>\n    </tr>\n  </tbody>\n</table>\n</div>"
     },
     "metadata": {},
     "execution_count": 10
    }
   ],
   "source": [
    "station_df = pd.read_csv('datasets_336_799969_station.csv')\n",
    "station_df.head(1)"
   ]
  },
  {
   "cell_type": "markdown",
   "metadata": {},
   "source": [
    "# What is the average trip duration for a borrowed bicycle?"
   ]
  },
  {
   "cell_type": "code",
   "execution_count": 6,
   "metadata": {},
   "outputs": [
    {
     "output_type": "execute_result",
     "data": {
      "text/plain": "1178.2956753399776"
     },
     "metadata": {},
     "execution_count": 6
    }
   ],
   "source": [
    "avg = trip_df['tripduration'].mean()\n",
    "avg"
   ]
  },
  {
   "cell_type": "markdown",
   "metadata": {},
   "source": [
    "# What’s the most common age of a bicycle-sharer?"
   ]
  },
  {
   "cell_type": "code",
   "execution_count": 7,
   "metadata": {},
   "outputs": [
    {
     "output_type": "execute_result",
     "data": {
      "text/plain": "33"
     },
     "metadata": {},
     "execution_count": 7
    }
   ],
   "source": [
    "birth_date = trip_df['birthyear'].value_counts().idxmax()\n",
    "int_birth = birth_date.astype(int)\n",
    "age = (pd.to_datetime('today').year-pd.to_datetime(int_birth.astype(str)).year)\n",
    "age"
   ]
  },
  {
   "cell_type": "markdown",
   "metadata": {},
   "source": [
    "# Given all the weather data here, find the average precipitation per month, and the median precipitation."
   ]
  },
  {
   "cell_type": "code",
   "execution_count": 9,
   "metadata": {},
   "outputs": [
    {
     "output_type": "execute_result",
     "data": {
      "text/plain": "0.10506531204644412"
     },
     "metadata": {},
     "execution_count": 9
    }
   ],
   "source": [
    "avg_rain = weather_df['Precipitation_In'].mean()\n",
    "avg_rain"
   ]
  },
  {
   "cell_type": "markdown",
   "metadata": {},
   "source": [
    "# What’s the average number of bikes at a given bike station?"
   ]
  },
  {
   "cell_type": "code",
   "execution_count": 11,
   "metadata": {},
   "outputs": [
    {
     "output_type": "execute_result",
     "data": {
      "text/plain": "16.517241379310345"
     },
     "metadata": {},
     "execution_count": 11
    }
   ],
   "source": [
    "station_df['current_dockcount'].mean()\n",
    "bike_avg = station_df.groupby([\"name\"])['current_dockcount'].max().mean()\n",
    "bike_avg"
   ]
  },
  {
   "cell_type": "markdown",
   "metadata": {},
   "source": [
    "# When a bike station is modified, is it more likely that it’ll lose bikes or gain bikes?"
   ]
  },
  {
   "cell_type": "code",
   "execution_count": 12,
   "metadata": {},
   "outputs": [
    {
     "output_type": "execute_result",
     "data": {
      "text/plain": "array([18, 16, 14, 20,  0, 26, 24])"
     },
     "metadata": {},
     "execution_count": 12
    }
   ],
   "source": [
    "unique_nums = station_df['current_dockcount'].unique()\n",
    "unique_nums"
   ]
  },
  {
   "cell_type": "code",
   "execution_count": 13,
   "metadata": {},
   "outputs": [
    {
     "output_type": "error",
     "ename": "NameError",
     "evalue": "name 'most_common_publisher' is not defined",
     "traceback": [
      "\u001b[0;31m---------------------------------------------------------------------------\u001b[0m",
      "\u001b[0;31mNameError\u001b[0m                                 Traceback (most recent call last)",
      "\u001b[0;32m<ipython-input-13-fef480ff4b66>\u001b[0m in \u001b[0;36m<module>\u001b[0;34m\u001b[0m\n\u001b[1;32m     14\u001b[0m     \u001b[0mprint\u001b[0m\u001b[0;34m(\u001b[0m\u001b[0;34m\"Success!!!\"\u001b[0m\u001b[0;34m)\u001b[0m\u001b[0;34m\u001b[0m\u001b[0;34m\u001b[0m\u001b[0m\n\u001b[1;32m     15\u001b[0m \u001b[0;34m\u001b[0m\u001b[0m\n\u001b[0;32m---> 16\u001b[0;31m \u001b[0mtest\u001b[0m\u001b[0;34m(\u001b[0m\u001b[0;34m)\u001b[0m\u001b[0;34m\u001b[0m\u001b[0;34m\u001b[0m\u001b[0m\n\u001b[0m",
      "\u001b[0;32m<ipython-input-13-fef480ff4b66>\u001b[0m in \u001b[0;36mtest\u001b[0;34m()\u001b[0m\n\u001b[1;32m      4\u001b[0m         \u001b[0;32massert\u001b[0m \u001b[0mactual\u001b[0m \u001b[0;34m==\u001b[0m \u001b[0mexpected\u001b[0m\u001b[0;34m,\u001b[0m \u001b[0;34mf\"Expected {expected} but got {actual}\"\u001b[0m\u001b[0;34m\u001b[0m\u001b[0;34m\u001b[0m\u001b[0m\n\u001b[1;32m      5\u001b[0m \u001b[0;34m\u001b[0m\u001b[0m\n\u001b[0;32m----> 6\u001b[0;31m     \u001b[0massert_equal\u001b[0m\u001b[0;34m(\u001b[0m\u001b[0mmost_common_publisher\u001b[0m\u001b[0;34m,\u001b[0m \u001b[0;32mNone\u001b[0m\u001b[0;34m)\u001b[0m\u001b[0;34m\u001b[0m\u001b[0;34m\u001b[0m\u001b[0m\n\u001b[0m\u001b[1;32m      7\u001b[0m     \u001b[0massert_equal\u001b[0m\u001b[0;34m(\u001b[0m\u001b[0mmost_common_platform\u001b[0m\u001b[0;34m,\u001b[0m \u001b[0;32mNone\u001b[0m\u001b[0;34m)\u001b[0m\u001b[0;34m\u001b[0m\u001b[0;34m\u001b[0m\u001b[0m\n\u001b[1;32m      8\u001b[0m     \u001b[0massert_equal\u001b[0m\u001b[0;34m(\u001b[0m\u001b[0mmost_common_genre\u001b[0m\u001b[0;34m,\u001b[0m \u001b[0;32mNone\u001b[0m\u001b[0;34m)\u001b[0m\u001b[0;34m\u001b[0m\u001b[0;34m\u001b[0m\u001b[0m\n",
      "\u001b[0;31mNameError\u001b[0m: name 'most_common_publisher' is not defined"
     ]
    }
   ],
   "source": [
    "def test():\n",
    "\n",
    "    def assert_equal(actual,expected):\n",
    "        assert actual == expected, f\"Expected {expected} but got {actual}\"\n",
    "\n",
    "    assert_equal(most_common_publisher, None)\n",
    "    assert_equal(most_common_platform, None)\n",
    "    assert_equal(most_common_genre, None)\n",
    "    assert_equal(top_twenty_highest_grossing_games.iloc[0].Name, None)\n",
    "    assert_equal(top_twenty_highest_grossing_games.iloc[19].Name, None)\n",
    "    assert_equal(na_median_sales, None)\n",
    "    assert_equal(ten_median_na_seller_names, None)\n",
    "\n",
    "    print(\"Success!!!\")\n",
    "\n",
    "test()"
   ]
  },
  {
   "cell_type": "code",
   "execution_count": null,
   "metadata": {},
   "outputs": [],
   "source": []
  }
 ]
}